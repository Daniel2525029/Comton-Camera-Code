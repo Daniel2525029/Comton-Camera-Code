{
 "cells": [
  {
   "cell_type": "code",
   "execution_count": 1,
   "id": "4ad0ef65",
   "metadata": {},
   "outputs": [],
   "source": [
    "import pyvista as pv \n",
    "import numpy as np\n",
    "from scipy.spatial import distance\n",
    "import timeit\n",
    "pv.set_jupyter_backend('trame')\n",
    "import math"
   ]
  },
  {
   "cell_type": "code",
   "execution_count": 7,
   "id": "c4772a49",
   "metadata": {},
   "outputs": [],
   "source": [
    "def radify(a):\n",
    "    angle = a/360*2*np.pi\n",
    "    return angle\n",
    "def Intersection_Point(cone1,cone2,cone3):\n",
    "    \n",
    "    intersection, C1_split, C2_split = cone1.intersection(cone2)\n",
    "    intersection2, C3_split, C1_split2 = cone3.intersection(cone1)\n",
    "\n",
    "    cells1 = intersection.cell_centers()\n",
    "    cells2 = intersection2.cell_centers()\n",
    "\n",
    "\n",
    "    points1 = cells1.points\n",
    "    points2 = cells2.points\n",
    "    \n",
    "    empthy_dict = {}\n",
    "    for i in range(len(points1)):\n",
    "        for j in range(len(points2)):\n",
    "            dist = distance.euclidean(points1[i],points2[j])\n",
    "            empthy_dict[dist] = [points1[i],points2[j]]\n",
    "\n",
    "    shortest = sorted(empthy_dict)[0]\n",
    "    p1,p2 = empthy_dict[shortest]\n",
    "\n",
    "    p = (p1+p2)/2\n",
    "    \n",
    "    return p\n",
    "\n",
    "def Visual_SearchE(Angles1, Angles2, Angles3, Dimensions,P1,P2,P3,Real_Source):\n",
    "    \n",
    "    T1min,T1,T1max = Angles1\n",
    "    T2min,T2,T2max = Angles2\n",
    "    T3min,T3,T3max = Angles3\n",
    "    \n",
    "    X,Y,Z = Dimensions\n",
    "\n",
    "    L = Y\n",
    "\n",
    "    p11,p12,p13 = P1\n",
    "    Cen1 = (p11,p12+L/2,p13)\n",
    "\n",
    "    p21,p22,p23 = P2\n",
    "    Cen2 = (p21,p22+L/2,p23)\n",
    "\n",
    "    p31,p32,p33 = P3\n",
    "    Cen3 = (p31,p32+L/2,p33)\n",
    "\n",
    "    C1 = pv.Cone(center=Cen1,angle=T1,direction=(0,-1,0),resolution=100,height=L,capping=False)\n",
    "    C2 = pv.Cone(center=Cen2,angle=T2,direction=(0,-1,0),resolution=100,height=L,capping=False)\n",
    "    C3 = pv.Cone(center=Cen3,angle=T3,direction=(0,-1,0),resolution=100,height=L,capping=False)\n",
    "    \n",
    "    C1min = pv.Cone(center=Cen1,angle=T1min,direction=(0,-1,0),resolution=100,height=L,capping=False)\n",
    "    C2min = pv.Cone(center=Cen2,angle=T2min,direction=(0,-1,0),resolution=100,height=L,capping=False)\n",
    "    C3min = pv.Cone(center=Cen3,angle=T3min,direction=(0,-1,0),resolution=100,height=L,capping=False)\n",
    "    \n",
    "    C1max = pv.Cone(center=Cen1,angle=T1max,direction=(0,-1,0),resolution=100,height=L,capping=False)\n",
    "    C2max = pv.Cone(center=Cen2,angle=T2max,direction=(0,-1,0),resolution=100,height=L,capping=False)\n",
    "    C3max = pv.Cone(center=Cen3,angle=T3max,direction=(0,-1,0),resolution=100,height=L,capping=False)\n",
    "\n",
    "    \n",
    "    \n",
    "    \n",
    "    \n",
    "    p1 = Intersection_Point(C1min,C2min,C3min)\n",
    "    p2 = Intersection_Point(C1max,C2min,C3min)\n",
    "    p3 = Intersection_Point(C1max,C2max,C3min)\n",
    "    p4 = Intersection_Point(C1max,C2max,C3max)\n",
    "    p5 = Intersection_Point(C1min,C2max,C3max)\n",
    "    p6 = Intersection_Point(C1min,C2max,C3max)\n",
    "    p7 = Intersection_Point(C1min,C2max,C3min)\n",
    "    p8 = Intersection_Point(C1max,C2min,C3max)\n",
    "    p9 = Intersection_Point(C1min,C2max,C3min)\n",
    "    \n",
    "    error_points = np.array([p1,p2,p3,p4,p5,p6,p7,p8,p9])\n",
    "    \n",
    "    intersection, C1_split, C2_split = C1.intersection(C2)\n",
    "    intersection2, C3_split, C1_split2 = C3.intersection(C1)\n",
    "\n",
    "    source = Intersection_Point(C1,C2,C3)\n",
    "    \n",
    "    P = pv.Sphere(center = source)\n",
    "    \n",
    "    E1 = pv.Sphere(center = p1)\n",
    "    E2 = pv.Sphere(center = p2)\n",
    "    E3 = pv.Sphere(center = p3)\n",
    "    E4 = pv.Sphere(center = p4)\n",
    "    E5 = pv.Sphere(center = p5)\n",
    "    E6 = pv.Sphere(center = p6)\n",
    "    E7 = pv.Sphere(center = p7)\n",
    "    E8 = pv.Sphere(center = p8)\n",
    "    E9 = pv.Sphere(center = p9)\n",
    "    \n",
    "    sx,sy,sz = source\n",
    "    distances = np.zeros(len(error_points))\n",
    "    i = 0\n",
    "    for position in error_points:\n",
    "        x,y,z = position\n",
    "        x = x-sx\n",
    "        y = y-sy\n",
    "        z = z-sz\n",
    "        distances[i] = np.sqrt(x**2+y**2+z**2)\n",
    "        i = i+1\n",
    "    \n",
    "    e_radius = np.mean(distances)\n",
    "    \n",
    "    Esphere = pv.Sphere(center = source, radius = e_radius)\n",
    "    \n",
    "    S1 = pv.Cylinder(P1,direction=(0,0,1),resolution=100,radius=1.75,height=10)\n",
    "    S2 = pv.Cylinder(P2,direction=(0,0,1),resolution=100,radius=1.75,height=10)\n",
    "    S3 = pv.Cylinder(P3,direction=(0,0,1),resolution=100,radius=1.75,height=10)\n",
    "    \n",
    "    Rsource = pv.Sphere(center = Real_Source,radius=2)\n",
    "    \n",
    "    \n",
    "    \n",
    "\n",
    "    plotter = pv.Plotter(window_size=(600, 400),image_scale=5)\n",
    "    plotter.background_color = 'w'\n",
    "    plotter.enable_anti_aliasing()\n",
    "    plotter.add_mesh(C1, color='b', show_edges=False,opacity=0.3)\n",
    "    plotter.add_mesh(C2, color='r', show_edges=False,opacity=0.3)\n",
    "    plotter.add_mesh(C3, color='g', show_edges=False,opacity=0.3)\n",
    "    plotter.add_mesh(P, color='w', show_edges=False)\n",
    "    plotter.add_mesh(Esphere, color='w', show_edges=True,opacity = 0.1)\n",
    "    plotter.add_mesh(Rsource, color='b', show_edges=False)\n",
    "    \n",
    "    plotter.add_mesh(E1, color='r', show_edges=False)\n",
    "    plotter.add_mesh(E2, color='r', show_edges=False)\n",
    "    plotter.add_mesh(E3, color='r', show_edges=False)\n",
    "    plotter.add_mesh(E4, color='r', show_edges=False)\n",
    "    plotter.add_mesh(E5, color='r', show_edges=False)\n",
    "    plotter.add_mesh(E6, color='r', show_edges=False)\n",
    "    plotter.add_mesh(E7, color='r', show_edges=False)\n",
    "    plotter.add_mesh(E8, color='r', show_edges=False)\n",
    "    plotter.add_mesh(E9, color='r', show_edges=False)\n",
    "    \n",
    "    plotter.add_mesh(intersection,color='y', line_width=5)\n",
    "    plotter.add_mesh(intersection2,color='pink', line_width=5)\n",
    "    plotter.add_mesh(S1,color='grey')\n",
    "    plotter.add_mesh(S2,color='grey')\n",
    "    plotter.add_mesh(S3,color='grey')\n",
    "\n",
    "    \n",
    "    plotter.show(jupyter_backend='trame',screenshot='Final_Cones.png')\n",
    "\n",
    "    print('The calculated source position is at',source,\"the error radius is\",e_radius)"
   ]
  },
  {
   "cell_type": "code",
   "execution_count": 8,
   "id": "9856ff46",
   "metadata": {},
   "outputs": [
    {
     "data": {
      "application/vnd.jupyter.widget-view+json": {
       "model_id": "54d2ac379c9146cdad2d20a8806f9590",
       "version_major": 2,
       "version_minor": 0
      },
      "text/plain": [
       "Widget(value=\"<iframe src='http://localhost:59962/index.html?ui=P_0x205122c1ac0_1&reconnect=auto' style='width…"
      ]
     },
     "metadata": {},
     "output_type": "display_data"
    },
    {
     "name": "stdout",
     "output_type": "stream",
     "text": [
      "The calculated source position is at [ 9.37543201 33.86798096  7.58033252] the error radius is 15.668179078907299\n",
      "Time taken:  7.959609599999993\n"
     ]
    }
   ],
   "source": [
    "\"\"\"\n",
    "Data 23.02.23\n",
    "\"\"\"\n",
    "#A1 = AngRange(14.72,13.57)\n",
    "#A2 = AngRange(15.05,12.25)\n",
    "A3 = (34.06-5.97,34.06,34.06+5.97)\n",
    "A1 = (10,20.44,32.3)\n",
    "A2 = (10,16.19,30.99)\n",
    "\n",
    "P1=(17.3,0,17.4)\n",
    "P2=(0,0,10.3)\n",
    "P3=(32,0,10.5)\n",
    "\n",
    "Real_Source = (9,34,2)\n",
    "\n",
    "start = timeit.default_timer()\n",
    "\n",
    "Visual_SearchE(A1,A2,A3,(34,80,24),P1,P2,P3,Real_Source)\n",
    "\n",
    "stop = timeit.default_timer()\n",
    "\n",
    "print('Time taken: ', stop - start)\n"
   ]
  },
  {
   "cell_type": "code",
   "execution_count": 4,
   "id": "4e163fe1",
   "metadata": {},
   "outputs": [
    {
     "data": {
      "text/plain": [
       "24024.131824329368"
      ]
     },
     "execution_count": 4,
     "metadata": {},
     "output_type": "execute_result"
    }
   ],
   "source": [
    "(17.9)**3*4/3*np.pi"
   ]
  },
  {
   "cell_type": "code",
   "execution_count": 5,
   "id": "17273079",
   "metadata": {},
   "outputs": [
    {
     "data": {
      "text/plain": [
       "5.746787511255705"
      ]
     },
     "execution_count": 5,
     "metadata": {},
     "output_type": "execute_result"
    }
   ],
   "source": [
    "np.sqrt((9-8.834)**2+(34-34.521)**2+(2-7.72071409)**2)"
   ]
  },
  {
   "cell_type": "code",
   "execution_count": 6,
   "id": "fe35c883",
   "metadata": {},
   "outputs": [
    {
     "data": {
      "text/plain": [
       "5.746794985560288"
      ]
     },
     "execution_count": 6,
     "metadata": {},
     "output_type": "execute_result"
    }
   ],
   "source": [
    "math.dist([ 8.83379197,34.52101612 ,7.72071409],[9,34,2])"
   ]
  },
  {
   "cell_type": "code",
   "execution_count": null,
   "id": "0ce50353",
   "metadata": {},
   "outputs": [],
   "source": []
  }
 ],
 "metadata": {
  "kernelspec": {
   "display_name": "Python 3 (ipykernel)",
   "language": "python",
   "name": "python3"
  },
  "language_info": {
   "codemirror_mode": {
    "name": "ipython",
    "version": 3
   },
   "file_extension": ".py",
   "mimetype": "text/x-python",
   "name": "python",
   "nbconvert_exporter": "python",
   "pygments_lexer": "ipython3",
   "version": "3.9.13"
  }
 },
 "nbformat": 4,
 "nbformat_minor": 5
}
