{
 "cells": [
  {
   "cell_type": "code",
   "execution_count": 1,
   "id": "e7fe4432",
   "metadata": {},
   "outputs": [],
   "source": [
    "import numpy as np\n",
    "import matplotlib.pyplot as plt\n",
    "import k3d\n",
    "from k3d import matplotlib_color_maps\n",
    "import timeit "
   ]
  },
  {
   "cell_type": "code",
   "execution_count": 2,
   "id": "1fd9ac6a",
   "metadata": {},
   "outputs": [],
   "source": [
    "def angle(C,n,P):\n",
    "    \"\"\"\n",
    "    Input:\n",
    "    C = position vector of hypothetical source\n",
    "    P = position vector of detector\n",
    "    n = normal vector of detector \n",
    "    \n",
    "    Output:\n",
    "    t = angle between the normal of the detector and \n",
    "    the vector from the detector to the source\n",
    "    \"\"\"\n",
    "    \n",
    "    r = tuple(map(lambda i, j: i - j, C, P)) # r = vector PC\n",
    "    magn = np.sqrt(np.dot(n,np.transpose(n))) #magnitude of n\n",
    "    magr = np.sqrt(np.dot(r,np.transpose(r))) #magnitude of r\n",
    "    t = np.arccos(np.dot(n,np.transpose(r))/(magn*magr)) #dot product identity\n",
    "    \n",
    "    return t \n",
    "    \n",
    "def radify(theta):\n",
    "    t = (theta/360)*(2*np.pi)\n",
    "    \n",
    "    return t \n",
    "\n",
    "\n",
    "def Gridsolve(X=50,Y=50,Z=27,P1=(0,0,0),P2=(25,0,27),P3=(50,0,0),nx=30,ny=40,nz=20,n1=(0,1,0),n2=(0,1,0),n3=(0,1,0)):\n",
    "    \n",
    "    \"\"\"\n",
    "    Input (set to default values):\n",
    "    C = position vector of hypothetical source\n",
    "    Pi = position vector of detector i\n",
    "    ni = normal vector of detector i \n",
    "    \n",
    "    dx, dy, dz = step sizes in each direction\n",
    "    X,Y,Z = box sizes in each dimension\n",
    "    \n",
    "    Output:\n",
    "    Theta = array of angles for each position for each box (P1,P2,P2)\n",
    "    G = Array of positions used (x,y,z)\n",
    "    \"\"\"\n",
    "    \n",
    "    #create axis \n",
    "    Nx = np.linspace(0,X,num=nx) \n",
    "    Ny = np.linspace(0,Y,num=ny)\n",
    "    Nz = np.linspace(0,Z,num=nz)\n",
    "    \n",
    "    dx = X/nx\n",
    "    dy = Y/ny\n",
    "    dz = Z/nz\n",
    "    \n",
    "    \n",
    "    #setup arrays for coordinates\n",
    "    Theta1 = np.zeros((len(Nx),len(Ny),len(Nz)),dtype='float16')\n",
    "    Theta2 = np.zeros((len(Nx),len(Ny),len(Nz)),dtype='float16')\n",
    "    Theta3 = np.zeros((len(Nx),len(Ny),len(Nz)),dtype='float16')\n",
    "    for i in range(0,len(Nx)):                                           #calculate angles for each box\n",
    "        for j in range(0,len(Ny)):\n",
    "            for k in range(0,len(Nz)):\n",
    "                pos = (i*dx+dx/2,j*dy+dy/2,k*dz+dz/2)\n",
    "                Theta1[i,j,k] = angle(pos,n1,P1)\n",
    "                Theta2[i,j,k] = angle(pos,n2,P2)\n",
    "                Theta3[i,j,k] = angle(pos,n3,P3)\n",
    "            \n",
    "    return Theta1, Theta2, Theta3\n",
    "\n",
    "def AngRange(A,e):\n",
    "    m = A-e\n",
    "    M = A+e\n",
    "    \n",
    "    return (m,M)\n",
    "\n",
    "def SourcePos(A,P,r,Dimensions):\n",
    "    \n",
    "    X,Y,Z = Dimensions\n",
    "    Nx,Ny,Nz = np.shape(A)\n",
    "    Source = np.full_like(A,0)\n",
    "    \n",
    "    px,py,pz = P\n",
    "    \n",
    "    dx = X/Nx\n",
    "    dy = Y/Ny\n",
    "    dz = Z/Nz\n",
    "    \n",
    "    for i in range(0,Nx):\n",
    "        for j in range(0,Ny):\n",
    "            for k in range(0,Nz):\n",
    "                x = (i+0.5)*dx\n",
    "                y = (j+0.5)*dy\n",
    "                z = (k+0.5)*dz\n",
    "                \n",
    "                dist = np.sqrt((x-px)**2+(y-py)**2+(z-pz)**2)\n",
    "                \n",
    "                if dist <= r:\n",
    "                    Source[i,j,k]=2\n",
    "    \n",
    "    return Source\n",
    "                    \n",
    "\n",
    "def Position(A1, A2, A3,X=33,Y=44,Z=27.5,P1=(16.6,0,15.2),P2=(0,0,6),P3=(31.7,0,5),nx=30,ny=40,nz=20,n1=(0,1,0),n2=(0,1,0),n3=(0,1,0)):\n",
    "    \"\"\"\n",
    "    Ai = (minimum angle,maximum angle)\n",
    "    \"\"\"\n",
    "    m1,M1 = A1\n",
    "    m2,M2 = A2\n",
    "    m3,M3 = A3\n",
    "    \n",
    "    m1 = radify(m1)\n",
    "    m2 = radify(m2)\n",
    "    m3 = radify(m3)\n",
    "    \n",
    "    M1 = radify(M1)\n",
    "    M2 = radify(M2)\n",
    "    M3 = radify(M3)\n",
    "\n",
    "    T1,T2,T3 = Gridsolve(X,Y,Z,P1,P2,P3,nx,ny,nz,n1,n2,n3)\n",
    "    Data = np.full_like(T1,0)\n",
    "    Nx,Ny,Nz = np.shape(T1)\n",
    "\n",
    "    for i in range(0,Nx):\n",
    "        for j in range(0,Ny):\n",
    "            for k in range(0,Nz):\n",
    "                if m1<T1[i,j,k]<M1:\n",
    "                    if m2<T2[i,j,k]<M2:\n",
    "                        if m3<T3[i,j,k]<M3:\n",
    "                            Data[i,j,k]=1\n",
    "    \n",
    "    voxel = (X/nx)*(Y/ny)*(Z/nz)\n",
    "    return Data,voxel\n",
    "\n",
    "def Volume(Data,voxel):\n",
    "    NV = np.sum(Data)\n",
    "    V = NV * voxel\n",
    "    x,y,z = np.shape(Data)\n",
    "    \n",
    "    T = (x*y*z)*voxel\n",
    "    \n",
    "    perc = V/T*100\n",
    "    \n",
    "    r = ((3/4)*V/np.pi)**(1/3)\n",
    "    return V,r,T,perc"
   ]
  },
  {
   "cell_type": "code",
   "execution_count": 4,
   "id": "d8444807",
   "metadata": {},
   "outputs": [
    {
     "name": "stdout",
     "output_type": "stream",
     "text": [
      "Time taken:  53.7680795\n"
     ]
    }
   ],
   "source": [
    "\"\"\"\n",
    "Data 23.02.23\n",
    "\"\"\"\n",
    "#A1 = AngRange(14.72,13.57)\n",
    "#A2 = AngRange(15.05,12.25)\n",
    "A3 = AngRange(34.06,5.97)\n",
    "\n",
    "A1 = (10,32.3)\n",
    "A2 = (10,30.99)\n",
    "\n",
    "\n",
    "start = timeit.default_timer()\n",
    "\n",
    "Data,voxel = Position(A1,A2,A3,X=33,Y=44,Z=27.5,P1=(17.3,0,17.4),P2=(0,0,10.3),P3=(32,0,10.5),nx=90,ny=120,nz=60)\n",
    "\n",
    "stop = timeit.default_timer()\n",
    "\n",
    "print('Time taken: ', stop - start)"
   ]
  },
  {
   "cell_type": "code",
   "execution_count": 5,
   "id": "8934014b",
   "metadata": {},
   "outputs": [],
   "source": [
    "Dimensions=(33,44,27.5)\n",
    "Psource=(9,34,2)\n",
    "radius = 1\n",
    "Source = SourcePos(Data,Psource,radius,Dimensions)"
   ]
  },
  {
   "cell_type": "code",
   "execution_count": 6,
   "id": "af895326",
   "metadata": {},
   "outputs": [
    {
     "data": {
      "application/vnd.jupyter.widget-view+json": {
       "model_id": "d403f05d0fec4ee0848f88c4b1e3bf56",
       "version_major": 2,
       "version_minor": 0
      },
      "text/plain": [
       "Output()"
      ]
     },
     "metadata": {},
     "output_type": "display_data"
    }
   ],
   "source": [
    "Data2 = np.swapaxes(Data,0,2)\n",
    "SourceT = np.swapaxes(Source,0,2)\n",
    "plt_volume = k3d.volume(Data2,\n",
    "                            bounds=[0,33,0, 44,0,28],\n",
    "                            scaling=[1, 1, 1],\n",
    "                            color_map=matplotlib_color_maps.Turbo,\n",
    "                            color_range=[0, 2])\n",
    "plt_volume2 = k3d.volume(SourceT,\n",
    "                            bounds=[0,33,0, 44,0,28],\n",
    "                            scaling=[1, 1, 1],\n",
    "                            color_map=matplotlib_color_maps.Turbo,\n",
    "                            color_range=[0, 2])\n",
    "    \n",
    "source = (9,34,2)\n",
    "\n",
    "\n",
    "\n",
    "plot = k3d.plot()\n",
    "plot+= plt_volume\n",
    "plot+= plt_volume2\n",
    "plot.display()"
   ]
  },
  {
   "cell_type": "code",
   "execution_count": 7,
   "id": "f08709b2",
   "metadata": {},
   "outputs": [
    {
     "data": {
      "text/plain": [
       "(3659.7570370370363, 9.559926392673376, 39929.99999999999, 9.165432098765432)"
      ]
     },
     "execution_count": 7,
     "metadata": {},
     "output_type": "execute_result"
    }
   ],
   "source": [
    "Volume(Data,voxel)"
   ]
  },
  {
   "cell_type": "code",
   "execution_count": 8,
   "id": "883d1650",
   "metadata": {},
   "outputs": [
    {
     "name": "stdout",
     "output_type": "stream",
     "text": [
      "0.06162037037037036\n"
     ]
    }
   ],
   "source": [
    "print(voxel)"
   ]
  },
  {
   "cell_type": "code",
   "execution_count": 9,
   "id": "97781442",
   "metadata": {},
   "outputs": [
    {
     "name": "stdout",
     "output_type": "stream",
     "text": [
      "Time taken:  3.6670036999999525\n"
     ]
    }
   ],
   "source": [
    "\"\"\"\n",
    "Speed Test\n",
    "\"\"\"\n",
    "#A1 = AngRange(14.72,13.57)\n",
    "#A2 = AngRange(15.05,12.25)\n",
    "A3 = AngRange(34.06,5.97)\n",
    "\n",
    "A1 = (10,32.3)\n",
    "A2 = (10,27.3)\n",
    "\n",
    "\n",
    "start = timeit.default_timer()\n",
    "\n",
    "speedtest1 = Position(A1,A2,A3,X=33,Y=44,Z=27.5,P1=(17.3,0,17.4),P2=(0,0,10.3),P3=(32,0,10.5),nx=33,ny=44,nz=27)\n",
    "\n",
    "stop = timeit.default_timer()\n",
    "\n",
    "print('Time taken: ', stop - start)"
   ]
  },
  {
   "cell_type": "code",
   "execution_count": 10,
   "id": "45d8adeb",
   "metadata": {},
   "outputs": [
    {
     "name": "stdout",
     "output_type": "stream",
     "text": [
      "1.0185185185185186\n"
     ]
    }
   ],
   "source": [
    "print(speedtest1[1])"
   ]
  },
  {
   "cell_type": "code",
   "execution_count": null,
   "id": "b714d467",
   "metadata": {},
   "outputs": [],
   "source": []
  }
 ],
 "metadata": {
  "kernelspec": {
   "display_name": "Python 3 (ipykernel)",
   "language": "python",
   "name": "python3"
  },
  "language_info": {
   "codemirror_mode": {
    "name": "ipython",
    "version": 3
   },
   "file_extension": ".py",
   "mimetype": "text/x-python",
   "name": "python",
   "nbconvert_exporter": "python",
   "pygments_lexer": "ipython3",
   "version": "3.9.13"
  }
 },
 "nbformat": 4,
 "nbformat_minor": 5
}
